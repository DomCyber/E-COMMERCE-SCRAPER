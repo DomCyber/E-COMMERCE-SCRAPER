{
 "cells": [
  {
   "cell_type": "code",
   "execution_count": null,
   "id": "2a1f63bc-32e7-4221-b011-0075ae288df7",
   "metadata": {},
   "outputs": [],
   "source": [
    "from bs4 import BeautifulSoup\n",
    "import requests\n",
    "import pandas as pd\n",
    "\n",
    "URL = ''\n"
   ]
  },
  {
   "cell_type": "code",
   "execution_count": null,
   "id": "070f7f72-cf9c-4006-b354-8dcee5619f89",
   "metadata": {},
   "outputs": [],
   "source": [
    "HEADERS = ({'User-Agent': '', 'Accept-Language': 'en-US, en;q=0.5' })"
   ]
  },
  {
   "cell_type": "code",
   "execution_count": null,
   "id": "16405d45-96a8-4d54-b2bd-0b8c951d939c",
   "metadata": {},
   "outputs": [],
   "source": [
    "webpage = requests.get(URL, headers=HEADERS)"
   ]
  },
  {
   "cell_type": "code",
   "execution_count": null,
   "id": "b0b15692-e397-46a5-9341-5019638cdfb1",
   "metadata": {},
   "outputs": [],
   "source": [
    "webpage"
   ]
  },
  {
   "cell_type": "code",
   "execution_count": null,
   "id": "c2534f31-052f-455c-8f65-7a85e59e211c",
   "metadata": {},
   "outputs": [],
   "source": [
    "type(webpage.content)"
   ]
  },
  {
   "cell_type": "code",
   "execution_count": null,
   "id": "aa600e21-f0d4-4271-be7e-dfd0d2893563",
   "metadata": {},
   "outputs": [],
   "source": [
    "soup = BeautifulSoup(webpage.content, \"html.parser\")"
   ]
  },
  {
   "cell_type": "code",
   "execution_count": null,
   "id": "8e57ff2c-6823-4044-bd93-379d04a377c0",
   "metadata": {},
   "outputs": [],
   "source": [
    "soup"
   ]
  },
  {
   "cell_type": "code",
   "execution_count": null,
   "id": "0f614ddf-ea50-421e-a72b-a8d93e96fb0d",
   "metadata": {},
   "outputs": [],
   "source": [
    "links = soup.find_all(\"a\", attrs={'class':''})"
   ]
  },
  {
   "cell_type": "code",
   "execution_count": null,
   "id": "a1871f45-22d1-477c-8cce-55e88d1c92c5",
   "metadata": {},
   "outputs": [],
   "source": [
    "links"
   ]
  },
  {
   "cell_type": "code",
   "execution_count": null,
   "id": "93e25439-6890-4b6b-9d67-7d2335623b10",
   "metadata": {},
   "outputs": [],
   "source": [
    "link = links[0].get('href')"
   ]
  },
  {
   "cell_type": "code",
   "execution_count": null,
   "id": "e4c63350-b75a-4e8a-8512-5e59ab399854",
   "metadata": {},
   "outputs": [],
   "source": [
    "productList =link"
   ]
  },
  {
   "cell_type": "code",
   "execution_count": null,
   "id": "99eca990-62ee-444e-9f2a-355222977c35",
   "metadata": {},
   "outputs": [],
   "source": [
    "productList\n"
   ]
  },
  {
   "cell_type": "code",
   "execution_count": null,
   "id": "b3d1b379-cdb4-4f0a-81e4-a49ff4769d65",
   "metadata": {},
   "outputs": [],
   "source": [
    "new_webpage = requests.get(productList, headers=HEADERS)"
   ]
  },
  {
   "cell_type": "code",
   "execution_count": null,
   "id": "a1fcffc2-6e8d-41bb-bdb4-cb4da1f5d331",
   "metadata": {},
   "outputs": [],
   "source": [
    "new_webpage"
   ]
  },
  {
   "cell_type": "code",
   "execution_count": null,
   "id": "6b599b71-d3d7-48df-8c2b-ef2f3fb5d0c7",
   "metadata": {},
   "outputs": [],
   "source": [
    "\n",
    "new_soup = BeautifulSoup(new_webpage.content, \"html.parser\")"
   ]
  },
  {
   "cell_type": "code",
   "execution_count": null,
   "id": "ae7ce1b4-514b-4ca8-94d6-9b2f68fd3fda",
   "metadata": {},
   "outputs": [],
   "source": [
    "new_soup"
   ]
  },
  {
   "cell_type": "code",
   "execution_count": null,
   "id": "dcbf54c1-adf0-487e-beee-0023bfc6bfe8",
   "metadata": {},
   "outputs": [],
   "source": [
    "new_soup.find(\"h2\", attrs={\"class\":''}).text"
   ]
  },
  {
   "cell_type": "code",
   "execution_count": null,
   "id": "b40d755a-d129-4a3a-9f42-10f46239f587",
   "metadata": {},
   "outputs": [],
   "source": [
    "new_soup.find(\"span\", attrs={\"class\":''}).text.strip('JMD').strip()"
   ]
  }
 ],
 "metadata": {
  "kernelspec": {
   "display_name": "Python 3 (ipykernel)",
   "language": "python",
   "name": "python3"
  },
  "language_info": {
   "codemirror_mode": {
    "name": "ipython",
    "version": 3
   },
   "file_extension": ".py",
   "mimetype": "text/x-python",
   "name": "python",
   "nbconvert_exporter": "python",
   "pygments_lexer": "ipython3",
   "version": "3.9.18"
  }
 },
 "nbformat": 4,
 "nbformat_minor": 5
}
