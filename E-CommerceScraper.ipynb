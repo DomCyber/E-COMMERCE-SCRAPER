{
 "cells": [
  {
   "cell_type": "code",
   "execution_count": null,
   "id": "d182476e-83d3-47a1-a9fa-673d4a0abddb",
   "metadata": {},
   "outputs": [],
   "source": [
    "from bs4 import BeautifulSoup\n",
    "import requests\n",
    "import pandas as pd\n",
    "import numpy as np"
   ]
  },
  {
   "cell_type": "code",
   "execution_count": null,
   "id": "117b8208-ab06-420e-a218-2e80e2547ce7",
   "metadata": {},
   "outputs": [],
   "source": [
    "# Function to extract Product Title\n",
    "def get_title(soup):\n",
    "\n",
    "    try:\n",
    "        # Outer Tag Object\n",
    "        title = new_soup.find(\"h1\", attrs={\"class\":'PRODUCTTITLE'})\n",
    "        \n",
    "        # Inner NavigatableString Object\n",
    "        title_value = title.text\n",
    "\n",
    "    except AttributeError:\n",
    "        title_value = \"\"\n",
    "\n",
    "    return title_value\n",
    "\n",
    "# Function to extract Product Price\n",
    "def get_price(soup):\n",
    "\n",
    "    try:\n",
    "        price = new_soup.find(\"span\", attrs={\"class\":'PRICE'}).text.strip('JMD').strip()\n",
    "\n",
    "    except AttributeError:\n",
    "        price = \"\"\n",
    "\n",
    "    return price\n",
    "\n"
   ]
  },
  {
   "cell_type": "code",
   "execution_count": null,
   "id": "e05fd21c-302e-4e60-b11f-e0a450fc6072",
   "metadata": {},
   "outputs": [],
   "source": [
    "if __name__ == '__main__':\n",
    "\n",
    "    # add your user agent ----\n",
    "    HEADERS = ({'User-Agent':'', 'Accept-Language': 'en-US, en;q=0.5'})\n",
    "\n",
    "    # The webpage URL\n",
    "    URL = \"\"\n",
    "\n",
    "    # HTTP Request\n",
    "    webpage = requests.get(URL, headers=HEADERS)\n",
    "\n",
    "    # Soup Object containing all data\n",
    "    soup = BeautifulSoup(webpage.content, \"html.parser\")\n",
    "\n",
    "    # Fetch links as List of Tag Objects\n",
    "    links = soup.find_all(\"a\", attrs={'class':'LINKS'})\n",
    "\n",
    "    # Store the links\n",
    "    links_list = []\n",
    "\n",
    "    # Loop for extracting links from Tag Objects\n",
    "    for link in links:\n",
    "            links_list.append(link.get('href'))\n",
    "\n",
    "    dict = {\"title\":[], \"price\":[]}\n",
    "    \n",
    "    # Loop for extracting product details from each link \n",
    "    for link in links_list:\n",
    "        new_webpage = requests.get(link, headers=HEADERS)\n",
    "\n",
    "        new_soup = BeautifulSoup(new_webpage.content, \"html.parser\")\n",
    "\n",
    "        # Function calls to display all necessary product information\n",
    "        dict['title'].append(get_title(new_soup))\n",
    "        dict['price'].append(get_price(new_soup))\n",
    "     \n",
    "    \n",
    "    scrape_df = pd.DataFrame.from_dict(dict)\n",
    "    scrape_df['title'].replace('', np.nan, inplace=True)\n",
    "    scrape_df = scrape_df.dropna(subset=['title'])\n",
    "    scrape_df.to_csv(\"product-prices-NEW.csv\", header=True, index=False)"
   ]
  },
  {
   "cell_type": "code",
   "execution_count": null,
   "id": "2a1f63bc-32e7-4221-b011-0075ae288df7",
   "metadata": {},
   "outputs": [],
   "source": [
    "scrape_df"
   ]
  }
 ],
 "metadata": {
  "kernelspec": {
   "display_name": "Python 3 (ipykernel)",
   "language": "python",
   "name": "python3"
  },
  "language_info": {
   "codemirror_mode": {
    "name": "ipython",
    "version": 3
   },
   "file_extension": ".py",
   "mimetype": "text/x-python",
   "name": "python",
   "nbconvert_exporter": "python",
   "pygments_lexer": "ipython3",
   "version": "3.9.18"
  }
 },
 "nbformat": 4,
 "nbformat_minor": 5
}
